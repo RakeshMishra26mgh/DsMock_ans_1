{
  "nbformat": 4,
  "nbformat_minor": 0,
  "metadata": {
    "colab": {
      "provenance": [],
      "authorship_tag": "ABX9TyPXZum1YHSYy2bNQWSFpvDI",
      "include_colab_link": true
    },
    "kernelspec": {
      "name": "python3",
      "display_name": "Python 3"
    },
    "language_info": {
      "name": "python"
    }
  },
  "cells": [
    {
      "cell_type": "markdown",
      "metadata": {
        "id": "view-in-github",
        "colab_type": "text"
      },
      "source": [
        "<a href=\"https://colab.research.google.com/github/RakeshMishra26mgh/DsMock_ans_1/blob/main/DsMock_ans_1.ipynb\" target=\"_parent\"><img src=\"https://colab.research.google.com/assets/colab-badge.svg\" alt=\"Open In Colab\"/></a>"
      ]
    },
    {
      "cell_type": "code",
      "execution_count": null,
      "metadata": {
        "id": "LxWSS8P8BEC1"
      },
      "outputs": [],
      "source": [
        "def filter_even_numbers(numbers):\n",
        "  even_numbers = [n for n in numbers if n % 2 == 0]\n",
        "  return even_numbers\n",
        "\n",
        "user_input = input(\"Enter a list of numbers separated by commas: \")\n",
        "user_numbers = [int(n) for n in user_input.split(\",\")]\n",
        "result = filter_even_numbers(user_numbers)\n",
        "print(\"The even numbers are:\", result)\n",
        "\n"
      ]
    }
  ]
}